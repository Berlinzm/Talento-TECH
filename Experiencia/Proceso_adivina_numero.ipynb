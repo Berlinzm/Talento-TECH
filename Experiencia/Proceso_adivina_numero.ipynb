{
  "nbformat": 4,
  "nbformat_minor": 0,
  "metadata": {
    "colab": {
      "provenance": [],
      "authorship_tag": "ABX9TyOTHa/HTmA98cPRKEALZ3L2",
      "include_colab_link": true
    },
    "kernelspec": {
      "name": "python3",
      "display_name": "Python 3"
    },
    "language_info": {
      "name": "python"
    }
  },
  "cells": [
    {
      "cell_type": "markdown",
      "metadata": {
        "id": "view-in-github",
        "colab_type": "text"
      },
      "source": [
        "<a href=\"https://colab.research.google.com/github/Berlinzm/Talento-TECH/blob/main/Experiencia/Proceso_adivina_numero.ipynb\" target=\"_parent\"><img src=\"https://colab.research.google.com/assets/colab-badge.svg\" alt=\"Open In Colab\"/></a>"
      ]
    },
    {
      "cell_type": "code",
      "execution_count": null,
      "metadata": {
        "id": "etIXGrIr-36-"
      },
      "outputs": [],
      "source": [
        "import random\n",
        "\n",
        "# Juego simple que pide al usuario que adivine un numero en 10 intentos\n",
        "\n",
        "# Proceso Adivina_Numero\n",
        "\n",
        "# Definir intentos, num_secreto, num_ingresado Como Entero\n",
        "intentos = 10\n",
        "num_secreto = random.randint(1, 100)\n",
        "num_ingresado = 0\n",
        "\n",
        "print(\"Adivine el numero (de 1 a 100):\")\n",
        "num_ingresado = int(input())\n",
        "\n",
        "while num_secreto != num_ingresado and intentos > 1:\n",
        "    if num_secreto > num_ingresado:\n",
        "        print(\"Muy bajo\")\n",
        "    else:\n",
        "        print(\"Muy alto\")\n",
        "    intentos -= 1\n",
        "    print(\"Le quedan \", intentos, \" intentos:\")\n",
        "    num_ingresado = int(input())\n",
        "\n",
        "if num_secreto == num_ingresado:\n",
        "    print(\"Exacto! Usted adivino en \", 11 - intentos, \" intentos.\")\n",
        "else:\n",
        "    print(\"El numero era: \", num_secreto)\n",
        "\n",
        "# El código debajo de esta línea parece ser de un lenguaje diferente (posiblemente PSeInt)\n",
        "# y está causando el TabError. Ha sido eliminado.\n",
        "# intentos<-10{;}\n",
        "# num_secreto <- azar(100)+1{;}\n",
        "#\n",
        "# Escribir \"Adivine el numero (de 1 a 100):\"{;}\n",
        "# Leer num_ingresado{;}\n",
        "# Mientras num_secreto<>num_ingresado {&} intentos>1 Hacer\n",
        "#   Si num_secreto>num_ingresado Entonces\n",
        "#       Escribir \"Muy bajo\"{;}\n",
        "#   SiNo\n",
        "#       Escribir \"Muy alto\"{;}\n",
        "#   FinSi\n",
        "#   intentos <- intentos-1{;}\n",
        "#   Escribir \"Le quedan \",intentos,\" intentos:\"{;}\n",
        "#   Leer num_ingresado{;}\n",
        "# FinMientras\n",
        "#\n",
        "# Si num_secreto=num_ingresado Entonces\n",
        "#   Escribir \"Exacto! Usted adivino en \",11-intentos,\" intentos.\"{;}\n",
        "# SiNo\n",
        "#   Escribir \"El numero era: \",num_secreto{;}\n",
        "# FinSi\n",
        "#\n",
        "# {FinProceso}"
      ]
    }
  ]
}