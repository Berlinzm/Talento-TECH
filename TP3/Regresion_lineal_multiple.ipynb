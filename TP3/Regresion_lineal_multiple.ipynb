{
  "nbformat": 4,
  "nbformat_minor": 0,
  "metadata": {
    "colab": {
      "provenance": [],
      "authorship_tag": "ABX9TyP8YNnrD+VZKvGe9Byu4LpH",
      "include_colab_link": true
    },
    "kernelspec": {
      "name": "python3",
      "display_name": "Python 3"
    },
    "language_info": {
      "name": "python"
    }
  },
  "cells": [
    {
      "cell_type": "markdown",
      "metadata": {
        "id": "view-in-github",
        "colab_type": "text"
      },
      "source": [
        "<a href=\"https://colab.research.google.com/github/Berlinzm/Talento-TECH/blob/main/TP3/Regresion_lineal_multiple.ipynb\" target=\"_parent\"><img src=\"https://colab.research.google.com/assets/colab-badge.svg\" alt=\"Open In Colab\"/></a>"
      ]
    },
    {
      "cell_type": "code",
      "execution_count": null,
      "metadata": {
        "colab": {
          "base_uri": "https://localhost:8080/"
        },
        "id": "99s85AHGcAvv",
        "outputId": "9db54174-5d45-455f-b6c0-3ff61a4669a5"
      },
      "outputs": [
        {
          "output_type": "stream",
          "name": "stdout",
          "text": [
            "    x1  x2  x3  x4      y\n",
            "0    7  26   6  60   78.5\n",
            "1    1  29  15  52   74.3\n",
            "2   11  56   8  20  104.3\n",
            "3   11  31   8  47   87.6\n",
            "4    7  52   6  33   95.9\n",
            "5   11  55   9  22  109.2\n",
            "6    3  71  17   6  102.7\n",
            "7    1  31  22  44   72.5\n",
            "8    2  54  18  22   93.1\n",
            "9   21  47   4  26  115.9\n",
            "10   1  40  23  34   83.8\n",
            "11  11  66   9  12  113.3\n",
            "12  10  68   8  12  109.4\n"
          ]
        }
      ],
      "source": [
        "import pandas as pd\n",
        "value_y = [78.5,74.3,104.3,87.6,95.9,109.2,102.7,72.5,93.1,115.9,83.8,113.3,109.4 ]\n",
        "value_x1 = [7,1,11,11,7,11,3,1,2,21,1,11,10]\n",
        "value_x2 = [26,29,56,31,52,55,71,31,54,47,40,66,68]\n",
        "value_x3 = [6,15,8,8,6,9,17,22,18,4,23,9,8]\n",
        "value_x4 = [60,52,20,47,33,22,6,44,22,26,34,12,12]\n",
        "\n",
        "\n",
        "data_dict = {'x1': value_x1,'x2': value_x2, 'x3': value_x3,'x4': value_x4, 'y': value_y}\n",
        "df = pd.DataFrame(data_dict)\n",
        "\n",
        "print(df)\n"
      ]
    },
    {
      "cell_type": "code",
      "source": [
        "print(\"DataFrame original:\")\n",
        "print(df)\n",
        "\n",
        "df_transpuesto = df.T\n",
        "\n",
        "print(\"\\nDataFrame traspuesto:\")\n",
        "print(df_transpuesto)\n"
      ],
      "metadata": {
        "colab": {
          "base_uri": "https://localhost:8080/"
        },
        "id": "kYo1zrfVfVz4",
        "outputId": "09359329-da5b-47f7-eba6-1fbbb21bbd09"
      },
      "execution_count": null,
      "outputs": [
        {
          "output_type": "stream",
          "name": "stdout",
          "text": [
            "DataFrame original:\n",
            "    x1  x2  x3  x4      y\n",
            "0    7  26   6  60   78.5\n",
            "1    1  29  15  52   74.3\n",
            "2   11  56   8  20  104.3\n",
            "3   11  31   8  47   87.6\n",
            "4    7  52   6  33   95.9\n",
            "5   11  55   9  22  109.2\n",
            "6    3  71  17   6  102.7\n",
            "7    1  31  22  44   72.5\n",
            "8    2  54  18  22   93.1\n",
            "9   21  47   4  26  115.9\n",
            "10   1  40  23  34   83.8\n",
            "11  11  66   9  12  113.3\n",
            "12  10  68   8  12  109.4\n",
            "\n",
            "DataFrame traspuesto:\n",
            "      0     1      2     3     4      5      6     7     8      9     10  \\\n",
            "x1   7.0   1.0   11.0  11.0   7.0   11.0    3.0   1.0   2.0   21.0   1.0   \n",
            "x2  26.0  29.0   56.0  31.0  52.0   55.0   71.0  31.0  54.0   47.0  40.0   \n",
            "x3   6.0  15.0    8.0   8.0   6.0    9.0   17.0  22.0  18.0    4.0  23.0   \n",
            "x4  60.0  52.0   20.0  47.0  33.0   22.0    6.0  44.0  22.0   26.0  34.0   \n",
            "y   78.5  74.3  104.3  87.6  95.9  109.2  102.7  72.5  93.1  115.9  83.8   \n",
            "\n",
            "       11     12  \n",
            "x1   11.0   10.0  \n",
            "x2   66.0   68.0  \n",
            "x3    9.0    8.0  \n",
            "x4   12.0   12.0  \n",
            "y   113.3  109.4  \n"
          ]
        }
      ]
    },
    {
      "cell_type": "code",
      "source": [
        "lists_of_lists = df.values.tolist()\n",
        "lists_of_lists"
      ],
      "metadata": {
        "colab": {
          "base_uri": "https://localhost:8080/"
        },
        "id": "Lavjc19cixDi",
        "outputId": "6d9c3750-33d1-457a-8abe-abe8e8119c28"
      },
      "execution_count": null,
      "outputs": [
        {
          "output_type": "execute_result",
          "data": {
            "text/plain": [
              "[[7.0, 26.0, 6.0, 60.0, 78.5],\n",
              " [1.0, 29.0, 15.0, 52.0, 74.3],\n",
              " [11.0, 56.0, 8.0, 20.0, 104.3],\n",
              " [11.0, 31.0, 8.0, 47.0, 87.6],\n",
              " [7.0, 52.0, 6.0, 33.0, 95.9],\n",
              " [11.0, 55.0, 9.0, 22.0, 109.2],\n",
              " [3.0, 71.0, 17.0, 6.0, 102.7],\n",
              " [1.0, 31.0, 22.0, 44.0, 72.5],\n",
              " [2.0, 54.0, 18.0, 22.0, 93.1],\n",
              " [21.0, 47.0, 4.0, 26.0, 115.9],\n",
              " [1.0, 40.0, 23.0, 34.0, 83.8],\n",
              " [11.0, 66.0, 9.0, 12.0, 113.3],\n",
              " [10.0, 68.0, 8.0, 12.0, 109.4]]"
            ]
          },
          "metadata": {},
          "execution_count": 23
        }
      ]
    },
    {
      "cell_type": "code",
      "source": [
        "lists_y =df [\"y\"].tolist ()\n",
        "list_x1= df [\"x1\"].tolist ()\n",
        "list_x2= df [\"x2\"].tolist ()\n",
        "list_x3= df [\"x3\"].tolist ()\n",
        "list_x4= df [\"x4\"].tolist ()"
      ],
      "metadata": {
        "id": "5Az-O82slA6C"
      },
      "execution_count": null,
      "outputs": []
    }
  ]
}