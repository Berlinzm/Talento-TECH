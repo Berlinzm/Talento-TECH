{
  "nbformat": 4,
  "nbformat_minor": 0,
  "metadata": {
    "colab": {
      "provenance": [],
      "authorship_tag": "ABX9TyMILxkTq2sy/d4a9brxGZSz",
      "include_colab_link": true
    },
    "kernelspec": {
      "name": "python3",
      "display_name": "Python 3"
    },
    "language_info": {
      "name": "python"
    }
  },
  "cells": [
    {
      "cell_type": "markdown",
      "metadata": {
        "id": "view-in-github",
        "colab_type": "text"
      },
      "source": [
        "<a href=\"https://colab.research.google.com/github/Berlinzm/Talento-TECH/blob/main/TP3/Fundamentos_python.ipynb\" target=\"_parent\"><img src=\"https://colab.research.google.com/assets/colab-badge.svg\" alt=\"Open In Colab\"/></a>"
      ]
    },
    {
      "cell_type": "code",
      "execution_count": null,
      "metadata": {
        "colab": {
          "base_uri": "https://localhost:8080/"
        },
        "id": "nncIFRCF-qMb",
        "outputId": "62557fd6-f83a-4047-b0e7-87e88e3bfccd"
      },
      "outputs": [
        {
          "output_type": "stream",
          "name": "stdout",
          "text": [
            "el numero no se encuentra en las opciones.\n",
            "el numero no se encuentra en las opciones.\n"
          ]
        }
      ],
      "source": [
        "numero = 4\n",
        "match numero:\n",
        "  case 1:\n",
        "    print(\"el numero es 1.\")\n",
        "numero = 4\n",
        "match numero:\n",
        "  case 1:\n",
        "    print(\"el numero es 1.\")\n",
        "  case 2:\n",
        "    print(\"el numero es 2.\")\n",
        "  case 3:\n",
        "    print(\"el numero es 3.\")\n",
        "  case _:\n",
        "    print(\"el numero no se encuentra en las opciones.\")\n",
        "    print(\"el numero no se encuentra en las opciones.\")"
      ]
    },
    {
      "cell_type": "code",
      "source": [
        "numero = 21\n",
        "if numero % 2 == 0:\n",
        "  print(\"el numero es par.\")\n",
        "else:\n",
        "  print(\"el numero es impar.\")\n",
        "\n",
        "  21 es un numero impar\n",
        "  #21 es un numero impar\n",
        "\n",
        "  ## validar signo de un numero\n",
        "  numero = -5\n",
        "  if numero > 0:\n",
        "    print(\"el numero es positivo.\")\n",
        "  elif numero < 0:\n",
        "    print(\"el numero es negativo.\")\n",
        "  else:\n",
        "    print(\"el numero es cero.\")\n",
        "\n",
        "\n",
        "n = 3\n",
        "\n",
        "match n:\n",
        "  case 0:\n",
        "      print(\"El numero es cero.\")\n",
        "\n",
        "  case n if n > 0:\n",
        "      print(\"El numero es positivo.\")\n",
        "\n",
        "  case n if n < 0:\n",
        "      print(\"El numero es negativo.\")\n",
        "\n",
        "\n",
        "\n"
      ],
      "metadata": {
        "id": "0UR-xzZpADwc"
      },
      "execution_count": null,
      "outputs": []
    },
    {
      "cell_type": "code",
      "source": [],
      "metadata": {
        "id": "UqQttfLzJSMk"
      },
      "execution_count": null,
      "outputs": []
    },
    {
      "cell_type": "code",
      "source": [
        "mi_diccionario_pop(\"edad\")\n",
        "mi_diccionario.keys()\n",
        "mi_diccionario.values()\n",
        "mi_diccionario.items()\n",
        "mi_diccionario.clear()"
      ],
      "metadata": {
        "id": "SDQNXN-eIs-_"
      },
      "execution_count": null,
      "outputs": []
    },
    {
      "cell_type": "code",
      "source": [],
      "metadata": {
        "id": "QGiW-j0HJTkn"
      },
      "execution_count": null,
      "outputs": []
    }
  ]
}