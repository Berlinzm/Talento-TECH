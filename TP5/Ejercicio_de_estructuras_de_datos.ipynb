{
  "nbformat": 4,
  "nbformat_minor": 0,
  "metadata": {
    "colab": {
      "provenance": [],
      "authorship_tag": "ABX9TyORyy8zkt+dBupfzrT5/HCk",
      "include_colab_link": true
    },
    "kernelspec": {
      "name": "python3",
      "display_name": "Python 3"
    },
    "language_info": {
      "name": "python"
    }
  },
  "cells": [
    {
      "cell_type": "markdown",
      "metadata": {
        "id": "view-in-github",
        "colab_type": "text"
      },
      "source": [
        "<a href=\"https://colab.research.google.com/github/Berlinzm/Talento-TECH/blob/main/TP5/Ejercicio_de_estructuras_de_datos.ipynb\" target=\"_parent\"><img src=\"https://colab.research.google.com/assets/colab-badge.svg\" alt=\"Open In Colab\"/></a>"
      ]
    },
    {
      "cell_type": "code",
      "execution_count": null,
      "metadata": {
        "id": "XKkn9gMlt19b",
        "colab": {
          "base_uri": "https://localhost:8080/"
        },
        "outputId": "8a596320-04fb-40c1-b4a4-9d023f368a7a"
      },
      "outputs": [
        {
          "output_type": "stream",
          "name": "stdout",
          "text": [
            "['a', 'e', 'i', 'o', 'u']\n",
            "('a', 'e', 'i', 'o', 'u')\n",
            "{'a', 'u', 'o', 'e', 'i'}\n",
            "{'acero': 'material', 'elefante': 'animal', 'avion': 'objeto'}\n"
          ]
        }
      ],
      "source": [
        "lista_vocales = [\"a\", \"e\", \"i\", \"o\", \"u\"] #lista\n",
        "print(lista_vocales)\n",
        "\n",
        "tupla_vocales = (\"a\", \"e\", \"i\", \"o\", \"u\") # tupla\n",
        "print(tupla_vocales)\n",
        "\n",
        "conjunto_vocales                       ={\"a\",\"e\",\"i\",\"o\",\"u\"} #conjunto\n",
        "print(conjunto_vocales)\n",
        "# asi sale en pantalla:{\"a\", \"e\", \"o\", \"u\" \"i\"} y cambia cada vez que  se ejecuta pero no importa el orden en los conjuntos\n",
        "\n",
        "#diccionario\n",
        "d= {\"acero\": \"material\",\"elefante\": \"animal\",\"avion\": \"objeto\"}\n",
        "print(d)"
      ]
    },
    {
      "cell_type": "code",
      "source": [
        "#Lista de eventos historicos\n",
        "lista_eventos = [\"revolucion francesa\", \"caida del muro de berlin\", \"independencia de EEUU\", \"Independencia de Chipchombia\"] # lista\n",
        "print(\"lista:\", lista_eventos)\n",
        "\n",
        "tupla_eventos = (\"revolucion francesa\", \"caida del muro de berlin\", \"independencia de EEUU\", \"Independencia de Chipchombia\") # tupla\n",
        "print(\"tupla:\", tupla_eventos)\n",
        "\n",
        "conjunto_eventos = {\n",
        "    \"revolucion francesa\",\n",
        "    \"caida del muro de berlin\",\n",
        "    \"independencia de EEUU\",\n",
        "    \"Independencia de Chipchombia\"\n",
        "    } # conjunto de eventos historicos y elementos unicos sin orden\n",
        "print(conjunto_eventos)\n",
        "\n",
        "\n",
        "paises = {\"francia\", \"EEUU\", \"Alemania\", \"Colombia\"} # Conjunto de países involucrados en los eventos históricos\n",
        "print(\"paises:\", \"paises\")\n",
        "\n",
        "#diccionario de eventos con por año y país\n",
        "d= { \"Revolución Francesa\" :  {\"año\": 1789, \"pais\": \"Francia\"},\n",
        "    \"Caida del muro de Berlin\": {\"año\": 1989, \"pais\": \"Alemania\"},\n",
        "    \"independencia de EEUU\": {\"año\":1776, \"pais\": \"EEUU\"},\n",
        "    \"Independencia de Chipchombia\": {\"año\": 1810, \"pais\": \"Colombia\"}\n",
        "}\n",
        "print(\"diccionario de eventos:\")\n",
        "for evento, info in d.items():\n",
        "    print(f\"{evento}: {info['año']} - {info['pais']}\")\n"
      ],
      "metadata": {
        "id": "nR6D9i25uoW1",
        "outputId": "b4d3a4a5-47d8-4172-a08f-1a28725141ce",
        "colab": {
          "base_uri": "https://localhost:8080/"
        }
      },
      "execution_count": null,
      "outputs": [
        {
          "output_type": "stream",
          "name": "stdout",
          "text": [
            "lista: ['revolucion francesa', 'caida del muro de berlin', 'independencia de EEUU', 'Independencia de Chipchombia']\n",
            "tupla: ('revolucion francesa', 'caida del muro de berlin', 'independencia de EEUU', 'Independencia de Chipchombia')\n",
            "{'Independencia de Chipchombia', 'independencia de EEUU', 'caida del muro de berlin', 'revolucion francesa'}\n",
            "paises: paises\n",
            "diccionario de eventos:\n",
            "Revolución Francesa: 1789 - Francia\n",
            "Caida del muro de Berlin: 1989 - Alemania\n",
            "independencia de EEUU: 1776 - EEUU\n",
            "Independencia de Chipchombia: 1810 - Colombia\n"
          ]
        }
      ]
    }
  ]
}